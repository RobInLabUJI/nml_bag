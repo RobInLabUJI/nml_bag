{
 "cells": [
  {
   "cell_type": "code",
   "execution_count": null,
   "id": "33b908a7-9926-4b7b-be2e-8a7335ca9797",
   "metadata": {},
   "outputs": [],
   "source": [
    "import nml_bag"
   ]
  },
  {
   "cell_type": "code",
   "execution_count": null,
   "id": "e294ce93-8a3d-4f5c-ae2a-54501e989520",
   "metadata": {},
   "outputs": [],
   "source": [
    "from collections import OrderedDict\n",
    "import numpy as np\n",
    "from matplotlib import pyplot as plt"
   ]
  },
  {
   "cell_type": "code",
   "execution_count": null,
   "id": "56de02cb-6977-4cbe-92ac-eb96ff0fc624",
   "metadata": {},
   "outputs": [],
   "source": [
    "def ReadTopics(bagfile):\n",
    "    reader = nml_bag.Reader(bagfile, topics=['/odom'])\n",
    "    x, y = [], []\n",
    "    for message_record in reader:\n",
    "        x.append(message_record['pose']['pose']['position']['x'])\n",
    "        y.append(message_record['pose']['pose']['position']['y'])\n",
    "    return x,y"
   ]
  },
  {
   "cell_type": "code",
   "execution_count": null,
   "id": "3c4af82c-c0c6-48bb-84f8-d570205b29f3",
   "metadata": {},
   "outputs": [],
   "source": [
    "bagfile = './bags/rosbag2_2023_11_07-15_44_40/rosbag2_2023_11_07-15_44_40_0.db3'\n",
    "x, y = ReadTopics(bagfile)\n",
    "plt.plot(x,y,'.');\n",
    "plt.axis('equal');"
   ]
  },
  {
   "cell_type": "code",
   "execution_count": null,
   "id": "8d5fce1a-1cb5-42c3-a328-0c812a9de6fc",
   "metadata": {},
   "outputs": [],
   "source": [
    "bagfile = './bags/rosbag2_2023_11_07-15_52_13/rosbag2_2023_11_07-15_52_13_0.db3'\n",
    "x, y = ReadTopics(bagfile)\n",
    "plt.plot(x,y,'.');\n",
    "plt.axis('equal');"
   ]
  },
  {
   "cell_type": "code",
   "execution_count": null,
   "id": "1b09cc14-9787-412a-8ef8-a231b4331d9c",
   "metadata": {},
   "outputs": [],
   "source": [
    "bagfile = './bags/rosbag2_2023_11_07-15_58_44/rosbag2_2023_11_07-15_58_44_0.db3'\n",
    "x, y = ReadTopics(bagfile)\n",
    "plt.plot(x,y,'.');\n",
    "plt.axis('equal');"
   ]
  },
  {
   "cell_type": "code",
   "execution_count": null,
   "id": "1e8e8e93-e4ab-4075-8727-6bdbd42f78a0",
   "metadata": {},
   "outputs": [],
   "source": [
    "bagfile = './bags/rosbag2_2023_11_07-16_06_21/rosbag2_2023_11_07-16_06_21_0.db3'\n",
    "x, y = ReadTopics(bagfile)"
   ]
  },
  {
   "cell_type": "code",
   "execution_count": null,
   "id": "ffc836c6-3320-46dc-8561-78e963a87d2a",
   "metadata": {},
   "outputs": [],
   "source": [
    "plt.plot(x,y,'.');\n",
    "plt.axis('equal');\n",
    "ax = plt.gca()\n",
    "ax.set_xlim([-48, -40])\n",
    "ax.set_ylim([-24, -20])"
   ]
  },
  {
   "cell_type": "code",
   "execution_count": null,
   "id": "7ef72d6c-ae78-42d6-bea7-9294e655e312",
   "metadata": {},
   "outputs": [],
   "source": []
  }
 ],
 "metadata": {
  "kernelspec": {
   "display_name": "Python 3 (ipykernel)",
   "language": "python",
   "name": "python3"
  },
  "language_info": {
   "codemirror_mode": {
    "name": "ipython",
    "version": 3
   },
   "file_extension": ".py",
   "mimetype": "text/x-python",
   "name": "python",
   "nbconvert_exporter": "python",
   "pygments_lexer": "ipython3",
   "version": "3.10.12"
  }
 },
 "nbformat": 4,
 "nbformat_minor": 5
}
